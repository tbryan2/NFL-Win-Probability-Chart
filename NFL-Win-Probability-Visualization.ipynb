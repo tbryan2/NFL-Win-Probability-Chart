{
 "cells": [
  {
   "cell_type": "code",
   "execution_count": 12,
   "metadata": {
    "collapsed": true,
    "pycharm": {
     "name": "#%%\n"
    }
   },
   "outputs": [],
   "source": [
    "# Dependencies\n",
    "import pandas as pd\n",
    "import nfl_data_py as nfl\n",
    "import matplotlib.pyplot as plt\n",
    "import os\n",
    "import urllib.request"
   ]
  },
  {
   "cell_type": "code",
   "execution_count": 18,
   "outputs": [],
   "source": [
    "# Pull the team description\n",
    "logos = nfl.import_team_desc()\n",
    "\n",
    "# Keep only the necessary columns in the logos DataFrame\n",
    "logos = logos[['team_abbr', 'team_logo_espn']]\n",
    "\n",
    "# Initialize an empty list for the logo file paths\n",
    "logo_paths = []\n",
    "\n",
    "# Initialize an empty list for the team abbreviations\n",
    "team_abbr = []\n",
    "\n",
    "# Create a folder for the image files if it doesn't exist\n",
    "if not os.path.exists(\"logos\"):\n",
    "    os.makedirs(\"logos\")\n",
    "\n",
    "# Pull the team logos from the URL and save them in the logos folder, save the file paths to\n",
    "for team in range(len(logos)):\n",
    "    urllib.request.urlretrieve(logos['team_logo_espn'][team], f\"logos/{logos['team_abbr'][team]}.tif\")\n",
    "    logo_paths.append(f\"logos/{logos['team_abbr'][team]}.tif\")\n",
    "    team_abbr.append(logos['team_abbr'][team])\n",
    "\n",
    "# Create a dictionary to put logo_paths and team_abbr in\n",
    "data = {'Team Abbr': team_abbr, 'Logo Path': logo_paths}\n",
    "\n",
    "# Create a DataFrame from the dictionary\n",
    "logo_df = pd.DataFrame(data)"
   ],
   "metadata": {
    "collapsed": false,
    "pycharm": {
     "name": "#%%\n"
    }
   }
  },
  {
   "cell_type": "code",
   "execution_count": 22,
   "outputs": [
    {
     "name": "stdout",
     "output_type": "stream",
     "text": [
      "2022 done.\n",
      "Downcasting floats.\n"
     ]
    }
   ],
   "source": [
    "# Load the NFL 2022 PBP data\n",
    "pbp_df = nfl.import_pbp_data([2022])"
   ],
   "metadata": {
    "collapsed": false,
    "pycharm": {
     "name": "#%%\n"
    }
   }
  },
  {
   "cell_type": "code",
   "execution_count": 26,
   "outputs": [
    {
     "data": {
      "text/plain": "    posteam   time  vegas_wp\n0       BUF  15:00  0.549646\n1       BUF  15:00  0.549646\n2       BUF  15:00  0.549646\n3       BUF  14:29  0.554871\n4       BUF  13:54  0.581946\n..      ...    ...       ...\n157    None  00:51  0.000513\n158      LA  00:51  0.000513\n159      LA  00:47  0.000375\n160     BUF  00:41  0.999771\n161    None  00:00       NaN\n\n[162 rows x 3 columns]",
      "text/html": "<div>\n<style scoped>\n    .dataframe tbody tr th:only-of-type {\n        vertical-align: middle;\n    }\n\n    .dataframe tbody tr th {\n        vertical-align: top;\n    }\n\n    .dataframe thead th {\n        text-align: right;\n    }\n</style>\n<table border=\"1\" class=\"dataframe\">\n  <thead>\n    <tr style=\"text-align: right;\">\n      <th></th>\n      <th>posteam</th>\n      <th>time</th>\n      <th>vegas_wp</th>\n    </tr>\n  </thead>\n  <tbody>\n    <tr>\n      <th>0</th>\n      <td>BUF</td>\n      <td>15:00</td>\n      <td>0.549646</td>\n    </tr>\n    <tr>\n      <th>1</th>\n      <td>BUF</td>\n      <td>15:00</td>\n      <td>0.549646</td>\n    </tr>\n    <tr>\n      <th>2</th>\n      <td>BUF</td>\n      <td>15:00</td>\n      <td>0.549646</td>\n    </tr>\n    <tr>\n      <th>3</th>\n      <td>BUF</td>\n      <td>14:29</td>\n      <td>0.554871</td>\n    </tr>\n    <tr>\n      <th>4</th>\n      <td>BUF</td>\n      <td>13:54</td>\n      <td>0.581946</td>\n    </tr>\n    <tr>\n      <th>...</th>\n      <td>...</td>\n      <td>...</td>\n      <td>...</td>\n    </tr>\n    <tr>\n      <th>157</th>\n      <td>None</td>\n      <td>00:51</td>\n      <td>0.000513</td>\n    </tr>\n    <tr>\n      <th>158</th>\n      <td>LA</td>\n      <td>00:51</td>\n      <td>0.000513</td>\n    </tr>\n    <tr>\n      <th>159</th>\n      <td>LA</td>\n      <td>00:47</td>\n      <td>0.000375</td>\n    </tr>\n    <tr>\n      <th>160</th>\n      <td>BUF</td>\n      <td>00:41</td>\n      <td>0.999771</td>\n    </tr>\n    <tr>\n      <th>161</th>\n      <td>None</td>\n      <td>00:00</td>\n      <td>NaN</td>\n    </tr>\n  </tbody>\n</table>\n<p>162 rows × 3 columns</p>\n</div>"
     },
     "execution_count": 26,
     "metadata": {},
     "output_type": "execute_result"
    }
   ],
   "source": [
    "# Filter down to a single game (Week 1: Rams vs. Bills)\n",
    "pbp_df = pbp_df[pbp_df['game_id'] == '2022_01_BUF_LA']\n",
    "\n",
    "# Select only the necessary columns\n",
    "pbp_df = pbp_df[['posteam', 'time', 'vegas_wp']]\n",
    "\n",
    "pbp_df"
   ],
   "metadata": {
    "collapsed": false,
    "pycharm": {
     "name": "#%%\n"
    }
   }
  },
  {
   "cell_type": "code",
   "execution_count": null,
   "outputs": [],
   "source": [],
   "metadata": {
    "collapsed": false,
    "pycharm": {
     "name": "#%%\n"
    }
   }
  }
 ],
 "metadata": {
  "kernelspec": {
   "display_name": "Python 3",
   "language": "python",
   "name": "python3"
  },
  "language_info": {
   "codemirror_mode": {
    "name": "ipython",
    "version": 2
   },
   "file_extension": ".py",
   "mimetype": "text/x-python",
   "name": "python",
   "nbconvert_exporter": "python",
   "pygments_lexer": "ipython2",
   "version": "2.7.6"
  }
 },
 "nbformat": 4,
 "nbformat_minor": 0
}